{
 "cells": [
  {
   "cell_type": "code",
   "execution_count": 8,
   "id": "546f8031",
   "metadata": {},
   "outputs": [
    {
     "name": "stdout",
     "output_type": "stream",
     "text": [
      "                              Item  Price     Type     Category     Ethnicity  \\\n",
      "0                        Rava Dosa     40      Veg    Breakfast  South Indian   \n",
      "1           Champaran Mutton/ahuna    339  Non Veg        Curry         Bihar   \n",
      "2                             Idly     40      Veg    Breakfast  South Indian   \n",
      "3                   Donne Biriyani     99  Non Veg  Main Course     Karnataka   \n",
      "4                    Tawa Fish Fry     50  Non Veg      Starter         Coast   \n",
      "5   Kushka,Kabab,Chicken fry Combo    120  Non Veg  Main Course        Turkey   \n",
      "6                       Mango Meal    350      Veg  Main Course     Karnataka   \n",
      "7                  Mango Milkshake     20      Veg    Milkshake     Karnataka   \n",
      "8          Ghee Sambar Button Idli     70      Veg    Breakfast     Karnataka   \n",
      "9            Mushroom Dum Biriyani     80      Veg  Main Course     Karnataka   \n",
      "10                        Dry Gobi     60      Veg        Snack       Chinese   \n",
      "11                    Gobi Noodles     80      Veg        Snack       Chinese   \n",
      "12                   Cheesy Burger    180      Veg    Fast Food           USA   \n",
      "13                         Vadapav     20      Veg        Snack        Bombay   \n",
      "\n",
      "                               Hotel_Name              Uploaded_by  \n",
      "0                           Guru's Tiffen         bangalorefoodiee  \n",
      "1                            Dhaba Square         bangalorefoodiee  \n",
      "2                    The Rameshwaram Cafe         bangalorefoodiee  \n",
      "3                    Royal Donne Biriyani        nimma_thindipotha  \n",
      "4          CHIRU SOWDE OLE FISH THAVA FRY        nimma_thindipotha  \n",
      "5               Somu Chicken Kabab Center        nimma_thindipotha  \n",
      "6                              Halli Mane  bengalurufoodchronicles  \n",
      "7                    Fresho by Big Basket  bengalurufoodchronicles  \n",
      "8                          Srirangam Cafe  bengalurufoodchronicles  \n",
      "9   Sri Mahadeshwara Mushroom Dum Biryani       bengalurufoodwalks  \n",
      "10                         Usman Dry Gobi       bengalurufoodwalks  \n",
      "11                           Murugan Cafe       food_and_bengaluru  \n",
      "12              Grub Monkeys Kammanahalli       food_and_bengaluru  \n",
      "13            Bombay Sandwich and Vadapav         bangaloreepicure  \n"
     ]
    }
   ],
   "source": [
    "import pandas as pd\n",
    "from sklearn.feature_extraction.text import TfidfVectorizer\n",
    "from sklearn.metrics.pairwise import cosine_similarity\n",
    "\n",
    "# Load the dataset into a Pandas dataframe\n",
    "data = pd.read_csv('Foodieez - Training Data Set.csv')\n",
    "\n",
    "# Create a TF-IDF vectorizer object to transform the text attributes into numerical vectors\n",
    "vectorizer = TfidfVectorizer()\n",
    "\n",
    "# Fit and transform the text attributes into numerical vectors\n",
    "X = vectorizer.fit_transform(data[['Type', 'Category', 'Ethnicity']].astype(str).apply(lambda x: ' '.join(x), axis=1))\n",
    "\n",
    "# Compute the cosine similarity matrix between the numerical vectors\n",
    "similarity_matrix = cosine_similarity(X)\n",
    "\n",
    "# Define a function to recommend food reels based on previously viewed reels\n",
    "def recommend_food_reels(item_index, num_recommendations=5):\n",
    "    # Get the similarity scores of the item with all other items\n",
    "    similarity_scores = list(enumerate(similarity_matrix[item_index]))\n",
    "\n",
    "    # Sort the items by decreasing similarity score\n",
    "    similarity_scores = sorted(similarity_scores, key=lambda x: x[1], reverse=True)\n",
    "\n",
    "    # Get the indices of the top-n most similar items\n",
    "    top_indices = [i[0] for i in similarity_scores[1:num_recommendations+1]]\n",
    "\n",
    "    # Return the top-n most similar items\n",
    "    return data.iloc[top_indices]\n",
    "\n",
    "print(data)"
   ]
  },
  {
   "cell_type": "code",
   "execution_count": 9,
   "id": "b389a629",
   "metadata": {},
   "outputs": [
    {
     "name": "stdout",
     "output_type": "stream",
     "text": [
      "                       Item  Price Type     Category  Ethnicity  \\\n",
      "10                 Dry Gobi     60  Veg        Snack    Chinese   \n",
      "11             Gobi Noodles     80  Veg        Snack    Chinese   \n",
      "8   Ghee Sambar Button Idli     70  Veg    Breakfast  Karnataka   \n",
      "6                Mango Meal    350  Veg  Main Course  Karnataka   \n",
      "9     Mushroom Dum Biriyani     80  Veg  Main Course  Karnataka   \n",
      "\n",
      "                               Hotel_Name              Uploaded_by  \n",
      "10                         Usman Dry Gobi       bengalurufoodwalks  \n",
      "11                           Murugan Cafe       food_and_bengaluru  \n",
      "8                          Srirangam Cafe  bengalurufoodchronicles  \n",
      "6                              Halli Mane  bengalurufoodchronicles  \n",
      "9   Sri Mahadeshwara Mushroom Dum Biryani       bengalurufoodwalks  \n"
     ]
    }
   ],
   "source": [
    "# Test the recommendation function\n",
    "recommendations = recommend_food_reels(13, num_recommendations=5)\n",
    "print(recommendations)\n"
   ]
  }
 ],
 "metadata": {
  "kernelspec": {
   "display_name": "Python 3 (ipykernel)",
   "language": "python",
   "name": "python3"
  },
  "language_info": {
   "codemirror_mode": {
    "name": "ipython",
    "version": 3
   },
   "file_extension": ".py",
   "mimetype": "text/x-python",
   "name": "python",
   "nbconvert_exporter": "python",
   "pygments_lexer": "ipython3",
   "version": "3.10.9"
  }
 },
 "nbformat": 4,
 "nbformat_minor": 5
}
